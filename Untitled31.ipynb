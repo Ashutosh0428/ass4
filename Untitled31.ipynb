{
 "cells": [
  {
   "cell_type": "markdown",
   "id": "b2becbbb",
   "metadata": {},
   "source": [
    "# ASSIGNMENT 4\n"
   ]
  },
  {
   "cell_type": "markdown",
   "id": "4794db95",
   "metadata": {},
   "source": [
    "1.list"
   ]
  },
  {
   "cell_type": "markdown",
   "id": "ec0c0deb",
   "metadata": {},
   "source": [
    "2.\n",
    "spam[2] = 'hello'"
   ]
  },
  {
   "cell_type": "code",
   "execution_count": 3,
   "id": "c6974970",
   "metadata": {},
   "outputs": [
    {
     "data": {
      "text/plain": [
       "'d'"
      ]
     },
     "execution_count": 3,
     "metadata": {},
     "output_type": "execute_result"
    }
   ],
   "source": [
    "3.\n",
    "spam = ['a','b','c','d']\n",
    "spam[int(int('3'* 2) / 11)]\n",
    "\n"
   ]
  },
  {
   "cell_type": "code",
   "execution_count": null,
   "id": "b13df353",
   "metadata": {},
   "outputs": [],
   "source": [
    "4.\n",
    "d"
   ]
  },
  {
   "cell_type": "code",
   "execution_count": null,
   "id": "61355ee9",
   "metadata": {},
   "outputs": [],
   "source": [
    "5.\n",
    "a,b"
   ]
  },
  {
   "cell_type": "code",
   "execution_count": null,
   "id": "ec815026",
   "metadata": {},
   "outputs": [],
   "source": [
    "6.\n",
    "1"
   ]
  },
  {
   "cell_type": "code",
   "execution_count": null,
   "id": "ede1941e",
   "metadata": {},
   "outputs": [],
   "source": [
    "7.\n",
    "[3.14, 'cat',11,'cat', True, 99]"
   ]
  },
  {
   "cell_type": "code",
   "execution_count": null,
   "id": "79d0510c",
   "metadata": {},
   "outputs": [],
   "source": [
    "8.\n",
    "[3.14,11,'cat', True, 99]"
   ]
  },
  {
   "cell_type": "markdown",
   "id": "19843987",
   "metadata": {},
   "source": [
    "9.\n",
    " list concatenation\n",
    "    a = [1, 2, 3] \n",
    "    b = [4, 5, 6] \n",
    "    c=a+b\n",
    "    c=[1,2,3,4,5,6]\n",
    "list replication operator\n",
    " a=[1,23]\n",
    " b=a*2\n",
    " b=[1,23,1,23]\n"
   ]
  },
  {
   "cell_type": "markdown",
   "id": "f6a4a38e",
   "metadata": {},
   "source": [
    "10.\n",
    "The difference is that with append, you just add a new entry at the end of the list. With insert(position, new_entry) you can create a new entry exactly in the position you want"
   ]
  },
  {
   "cell_type": "markdown",
   "id": "23ad9dc0",
   "metadata": {},
   "source": [
    "11.\n",
    "remove()\n",
    "pop()"
   ]
  },
  {
   "cell_type": "markdown",
   "id": "c130b1df",
   "metadata": {},
   "source": [
    "12.\n",
    "the list and string values are identical becoz both index start from 0 to n-1."
   ]
  },
  {
   "cell_type": "markdown",
   "id": "390d7a57",
   "metadata": {},
   "source": [
    "13.\n",
    "Lists are mutable\n",
    "\n",
    "Tuples are immutable\n"
   ]
  },
  {
   "cell_type": "markdown",
   "id": "dd37f3e9",
   "metadata": {},
   "source": [
    "14.\n",
    "(42)"
   ]
  },
  {
   "cell_type": "markdown",
   "id": "aef07d99",
   "metadata": {},
   "source": [
    "15.\n",
    "tuples in list \n",
    "[(tuple1),(tuple2),(tuple3), ,(tuple n)]\n",
    "\n",
    "lists in tuple\n",
    "\n",
    "\n",
    "\n"
   ]
  },
  {
   "cell_type": "markdown",
   "id": "31e0ec8b",
   "metadata": {},
   "source": [
    "16.\n",
    "Variables will contain references to list values rather than list values themselves. But for strings and integer values, variables simply contain the string or integer value."
   ]
  },
  {
   "cell_type": "markdown",
   "id": "6bb88332",
   "metadata": {},
   "source": [
    "17.\n",
    "copy — Shallow and deep copy operations\n",
    "A shallow copy constructs a new compound object and then (to the extent possible) inserts references into it to the objects found in the original.\n",
    "A deep copy constructs a new compound object and then, recursively, inserts copies into it of the objects found in the original."
   ]
  }
 ],
 "metadata": {
  "kernelspec": {
   "display_name": "Python 3 (ipykernel)",
   "language": "python",
   "name": "python3"
  },
  "language_info": {
   "codemirror_mode": {
    "name": "ipython",
    "version": 3
   },
   "file_extension": ".py",
   "mimetype": "text/x-python",
   "name": "python",
   "nbconvert_exporter": "python",
   "pygments_lexer": "ipython3",
   "version": "3.9.7"
  }
 },
 "nbformat": 4,
 "nbformat_minor": 5
}
